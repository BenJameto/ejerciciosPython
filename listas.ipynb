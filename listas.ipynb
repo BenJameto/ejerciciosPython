{
 "cells": [
  {
   "cell_type": "code",
   "execution_count": 18,
   "metadata": {},
   "outputs": [],
   "source": [
    "import random"
   ]
  },
  {
   "attachments": {},
   "cell_type": "markdown",
   "metadata": {},
   "source": [
    "Ejercicio 1\n",
    "Escribir un programa que almacene las asignaturas de un curso"
   ]
  },
  {
   "cell_type": "code",
   "execution_count": 8,
   "metadata": {},
   "outputs": [],
   "source": [
    "lista=['Español', 'Matematicas', 'Ciencias Naturales','Quimica','Fisica','Programacion','Psicologia']"
   ]
  },
  {
   "cell_type": "markdown",
   "metadata": {
    "slideshow": {
     "slide_type": "notes"
    }
   },
   "source": [
    "Ejercicio 2\n",
    "Escribir un programa que almacene las asignaturas de un curso en \n",
    "una lista y la muestre por pantalla el mensaje Yo estudio <asignatura>, \n",
    "donde <asignatura> es cada una de las asignaturas de la lista."
   ]
  },
  {
   "cell_type": "code",
   "execution_count": 3,
   "metadata": {},
   "outputs": [
    {
     "name": "stdout",
     "output_type": "stream",
     "text": [
      "yo estudio Español\n",
      "yo estudio Matematicas\n",
      "yo estudio Ciencias Naturales\n",
      "yo estudio Quimica\n",
      "yo estudio Fisica\n",
      "yo estudio Programacion\n",
      "yo estudio Psicologia\n"
     ]
    }
   ],
   "source": [
    "for materia in lista:\n",
    "    print('yo estudio',materia)"
   ]
  },
  {
   "cell_type": "code",
   "execution_count": 9,
   "metadata": {},
   "outputs": [
    {
     "name": "stdout",
     "output_type": "stream",
     "text": [
      "7\n"
     ]
    }
   ],
   "source": [
    "print(len(lista))"
   ]
  },
  {
   "attachments": {},
   "cell_type": "markdown",
   "metadata": {},
   "source": [
    "Ejercicio 3\n",
    "Escribir un programa que almacene las asignaturas de un curso en una lista,\n",
    "pregunte al usuario la nota que ha sacado en cada asignatura, y después las\n",
    "muestre por pantalla con el mensaje En < asignatura > has sacado < nota >\n",
    "donde < asignatura > es cada una des las asignaturas de la lista y < nota > cada\n",
    "una de las correspondientes notas introducidas por el usuario.\n"
   ]
  },
  {
   "cell_type": "code",
   "execution_count": 50,
   "metadata": {},
   "outputs": [
    {
     "name": "stdout",
     "output_type": "stream",
     "text": [
      "En Español has obtenido:  7\n",
      "En Matematicas has obtenido:  9\n",
      "En Ciencias Naturales has obtenido:  8\n",
      "En Quimica has obtenido:  10\n",
      "En Fisica has obtenido:  9\n",
      "En Programacion has obtenido:  8\n",
      "En Psicologia has obtenido:  10\n"
     ]
    }
   ],
   "source": [
    "lista=['Español', 'Matematicas', 'Ciencias Naturales','Quimica','Fisica','Programacion','Psicologia']\n",
    "notas=[7,9,8,10,9,8,10]\n",
    "for i in range(len(lista)):\n",
    "    print('En', lista[i], 'has obtenido: ',notas[i])"
   ]
  },
  {
   "cell_type": "code",
   "execution_count": 51,
   "metadata": {},
   "outputs": [
    {
     "name": "stdout",
     "output_type": "stream",
     "text": [
      "En Español has obtenido:  7\n",
      "En Matematicas has obtenido:  9\n",
      "En Ciencias Naturales has obtenido:  8\n",
      "En Quimica has obtenido:  10\n",
      "En Fisica has obtenido:  9\n",
      "En Programacion has obtenido:  8\n",
      "En Psicologia has obtenido:  10\n"
     ]
    }
   ],
   "source": [
    "notas=[7,9,8,10,9,8,10]\n",
    "for i in range(len(lista)):\n",
    "    print('En', lista[i], 'has obtenido: ',notas[i])"
   ]
  },
  {
   "cell_type": "code",
   "execution_count": 14,
   "metadata": {},
   "outputs": [
    {
     "name": "stdout",
     "output_type": "stream",
     "text": [
      "1 a\n",
      "2 b\n",
      "3 c\n"
     ]
    }
   ],
   "source": [
    "lista1 = [1, 2, 3]\n",
    "lista2 = [\"a\", \"b\", \"c\"]\n",
    "\n",
    "for elemento1, elemento2 in zip(lista1, lista2):\n",
    "    print(elemento1, elemento2)"
   ]
  },
  {
   "attachments": {},
   "cell_type": "markdown",
   "metadata": {},
   "source": [
    "Ejercicio 4\n",
    "Escribir un programa que pregunte al usuario los números ganadores de la \n",
    "lotería primitiva, los almacene en una lista y los muestre por pantalla \n",
    "ordenados de menor a mayor."
   ]
  },
  {
   "cell_type": "code",
   "execution_count": 29,
   "metadata": {},
   "outputs": [],
   "source": [
    "loteria=[]\n",
    "for i in range(25):\n",
    "    loteria.append(random.randint(1,10000))\n",
    "\n"
   ]
  },
  {
   "cell_type": "code",
   "execution_count": 30,
   "metadata": {},
   "outputs": [
    {
     "name": "stdout",
     "output_type": "stream",
     "text": [
      "[707, 945, 1726, 1954, 2269, 2334, 2994, 3176, 3591, 4367, 4703, 4764, 5104, 5276, 5706, 6109, 6263, 6890, 6951, 6980, 7120, 7278, 8031, 8701, 9379]\n"
     ]
    }
   ],
   "source": [
    "loteria.sort()\n",
    "print(loteria)"
   ]
  },
  {
   "attachments": {},
   "cell_type": "markdown",
   "metadata": {},
   "source": [
    "Ejercicio 5\n",
    "Escribir un programa que almacene en una lista los números del 1 al 10 y los \n",
    "muestre por pantalla en orden inverso separados por comas."
   ]
  },
  {
   "cell_type": "code",
   "execution_count": 40,
   "metadata": {},
   "outputs": [
    {
     "name": "stdout",
     "output_type": "stream",
     "text": [
      "10, 9, 8, 7, 6, 5, 4, 3, 2, 1\n"
     ]
    }
   ],
   "source": [
    "numeros=list(range(1,11))\n",
    "numeros.reverse()\n",
    "print(', '.join(str(num) for num in numeros))\n"
   ]
  },
  {
   "attachments": {},
   "cell_type": "markdown",
   "metadata": {},
   "source": [
    "Ejercicio 6\n",
    "Escribir un programa que almacene las asignaturas de un curso en una lista, \n",
    "pregunte al usuario la nota que ha sacado en cada asignatura y elimine de la lista \n",
    "las asignaturas aprobadas. Al final el programa debe mostrar por pantalla las asignaturas \n",
    "que el usuario tiene que repetir."
   ]
  },
  {
   "cell_type": "code",
   "execution_count": 48,
   "metadata": {},
   "outputs": [],
   "source": [
    "reprobadas=[]\n",
    "for i in range(7):\n",
    "    reprobadas.append(random.randint(5,10))\n"
   ]
  },
  {
   "cell_type": "code",
   "execution_count": 65,
   "metadata": {},
   "outputs": [
    {
     "name": "stdout",
     "output_type": "stream",
     "text": [
      "tus materias son:  ['Español', 'Matematicas', 'Ciencias Naturales', 'Quimica', 'Fisica', 'Programacion', 'Psicologia']\n",
      "tus calificaciones son:  [7, 6, 5, 9, 10, 8, 5]\n",
      "reprovaste:  ['Ciencias Naturales', 'Psicologia']\n"
     ]
    }
   ],
   "source": [
    "lista=['Español', 'Matematicas', 'Ciencias Naturales','Quimica','Fisica','Programacion','Psicologia']\n",
    "reprobadas=[]\n",
    "for i in range(7):\n",
    "    reprobadas.append(random.randint(5,10))\n",
    "print('tus materias son: ',lista)\n",
    "print('tus calificaciones son: ',reprobadas)\n",
    "mat_rep=[]\n",
    "for i in range(len(lista)):\n",
    "    if (reprobadas[i] == 5):\n",
    "        mat_rep.append(lista[i])\n",
    "\n",
    "print('reprovaste: ',mat_rep)"
   ]
  },
  {
   "attachments": {},
   "cell_type": "markdown",
   "metadata": {},
   "source": [
    "Ejercicio 7\n",
    "Escribir un programa que almacene el abecedario en una lista, elimine de la lista las \n",
    "letras que ocupen posiciones múltiplos de 3, y muestre por pantalla la lista resultante.\n"
   ]
  },
  {
   "cell_type": "code",
   "execution_count": 80,
   "metadata": {},
   "outputs": [
    {
     "name": "stdout",
     "output_type": "stream",
     "text": [
      "['a', 'b', 'c', 'd', 'e', 'f', 'g', 'h', 'i', 'j', 'k', 'l', 'm', 'n', 'o', 'p', 'q', 'r', 's', 't', 'u', 'v', 'w', 'x', 'y', 'z']\n"
     ]
    }
   ],
   "source": [
    "import string\n",
    "abecedario=list(string.ascii_lowercase)\n",
    "print(abecedario)"
   ]
  },
  {
   "cell_type": "code",
   "execution_count": 82,
   "metadata": {},
   "outputs": [
    {
     "name": "stdout",
     "output_type": "stream",
     "text": [
      "['a', 'b', 'c', 'd', 'e', 'f', 'g', 'h', 'i', 'j', 'k', 'l', 'm', 'n', 'o', 'p', 'q', 'r', 's', 't', 'u', 'v', 'w', 'x', 'y', 'z']\n",
      "[]\n"
     ]
    }
   ],
   "source": [
    "import string\n",
    "abecedario=list(string.ascii_lowercase)\n",
    "print(abecedario)\n",
    "i = 0\n",
    "while i < len(abecedario):\n",
    "    if i % 3 == 0:\n",
    "        abecedario.pop(i)\n",
    "    else:\n",
    "        i += 1\n",
    "\n",
    "print(abecedario)"
   ]
  },
  {
   "cell_type": "code",
   "execution_count": 90,
   "metadata": {},
   "outputs": [
    {
     "name": "stdout",
     "output_type": "stream",
     "text": [
      "Abecedario original: ['a', 'b', 'c', 'd', 'e', 'f', 'g', 'h', 'i', 'j', 'k', 'l', 'm', 'n', 'o', 'p', 'q', 'r', 's', 't', 'u', 'v', 'w', 'x', 'y', 'z']\n",
      "['b', 'c', 'e', 'f', 'h', 'i', 'k', 'l', 'n', 'o', 'q', 'r', 't', 'u', 'w', 'x', 'z']\n"
     ]
    }
   ],
   "source": [
    "abecedario = list(string.ascii_lowercase)\n",
    "abcd=[]\n",
    "print(\"Abecedario original:\", abecedario)\n",
    "for i in range(len(abecedario)):\n",
    "    if i%3 != 0:\n",
    "        abcd.append(abecedario[i])\n",
    "\n",
    "print(abcd)"
   ]
  },
  {
   "attachments": {},
   "cell_type": "markdown",
   "metadata": {},
   "source": [
    "Ejercicio 8\n",
    "Escribir un programa que pida al usuario una palabra y muestre por pantalla si es un palíndromo.\n",
    "\n"
   ]
  },
  {
   "cell_type": "code",
   "execution_count": 117,
   "metadata": {},
   "outputs": [
    {
     "name": "stdout",
     "output_type": "stream",
     "text": [
      "len(prueba) 6\n",
      "prueba[-1] 6\n",
      "6\n",
      "prueba[len(prueba)-1] 6\n"
     ]
    },
    {
     "data": {
      "text/plain": [
       "False"
      ]
     },
     "execution_count": 117,
     "metadata": {},
     "output_type": "execute_result"
    }
   ],
   "source": [
    "prueba=['1','2','3','4','5','6']\n",
    "print('len(prueba)',len(prueba))\n",
    "print('prueba[-1]',prueba[-1])\n",
    "print(len(prueba))\n",
    "print('prueba[len(prueba)-1]',prueba[len(prueba)-1])\n",
    "prueba[0]==prueba[-1]\n"
   ]
  },
  {
   "cell_type": "code",
   "execution_count": 134,
   "metadata": {},
   "outputs": [
    {
     "name": "stdout",
     "output_type": "stream",
     "text": [
      "anita lava la tina\n",
      "si es palindromo\n"
     ]
    }
   ],
   "source": [
    "palabrA = 'anita lava la tina'\n",
    "palabra=palabrA.replace(' ','')\n",
    "listp=[]\n",
    "\n",
    "for c in range(len(palabra)):\n",
    "    listp.append(palabra[c])\n",
    "print(palabrA)\n",
    "for i in range(len(listp)//2):\n",
    "    if listp[i]!= listp[-i-1]:\n",
    "        print('no es palindromo')\n",
    "        break\n",
    "else:\n",
    "    print('si es palindromo')\n",
    "        \n"
   ]
  },
  {
   "cell_type": "code",
   "execution_count": 121,
   "metadata": {},
   "outputs": [
    {
     "name": "stdout",
     "output_type": "stream",
     "text": [
      "La lista cumple con la propiedad deseada\n"
     ]
    }
   ],
   "source": [
    "mi_lista = [1, 2, 3, 4, 4, 4, 3, 2, 1] # Ejemplo de lista\n",
    "\n",
    "for i in range(len(mi_lista)//2): # Solo necesitamos iterar hasta la mitad de la lista\n",
    "    if mi_lista[i] != mi_lista[-i-1]: # Si los elementos no son iguales\n",
    "        print(\"La lista no cumple con la propiedad deseada\")\n",
    "        break # Salimos del bucle\n",
    "else:\n",
    "    print(\"La lista cumple con la propiedad deseada\")"
   ]
  },
  {
   "attachments": {},
   "cell_type": "markdown",
   "metadata": {},
   "source": [
    "Ejercicio 9\n",
    "Escribir un programa que pida al usuario una palabra y muestre por pantalla el \n",
    "número de veces que contiene cada vocal."
   ]
  },
  {
   "cell_type": "code",
   "execution_count": 139,
   "metadata": {},
   "outputs": [
    {
     "name": "stdout",
     "output_type": "stream",
     "text": [
      "['p']\n"
     ]
    }
   ],
   "source": [
    "palabra1='parangarecutirimicuaro'\n",
    "palabra2=[]\n",
    "for c in range(len(palabra1)):\n",
    "    if palabra1[c] \n"
   ]
  },
  {
   "attachments": {},
   "cell_type": "markdown",
   "metadata": {},
   "source": [
    "Ejercicio 10\n",
    "Escribir un programa que almacene en una lista los siguientes precios, 50, 75, 46, 22, 80, 65, 8, \n",
    "y muestre por pantalla el menor y el mayor de los precios."
   ]
  },
  {
   "attachments": {},
   "cell_type": "markdown",
   "metadata": {},
   "source": [
    "\n",
    "Ejercicio 11\n",
    "Escribir un programa que almacene los vectores (1,2,3) y (-1,0,2) en dos listas y \n",
    "muestre por pantalla su producto escalar."
   ]
  },
  {
   "attachments": {},
   "cell_type": "markdown",
   "metadata": {},
   "source": [
    "Ejercicio 12\n",
    "Escribir un programa que almacene las matrices\n",
    "                ( 1 2 3 )       (-1 0)\n",
    "            A= (         ) y B= ( 0 1)\n",
    "                ( 4 5 6 )       ( 1 1)\n",
    "en una lista y muestre por pantalla su producto."
   ]
  },
  {
   "attachments": {},
   "cell_type": "markdown",
   "metadata": {},
   "source": [
    "Ejercicio 13\n",
    "Escribir un programa que pregunte por una muestra de números, separados por comas, los guarde en una \n",
    "lista y muestre por pantalla su media y desviación típica."
   ]
  }
 ],
 "metadata": {
  "kernelspec": {
   "display_name": "Python 3",
   "language": "python",
   "name": "python3"
  },
  "language_info": {
   "codemirror_mode": {
    "name": "ipython",
    "version": 3
   },
   "file_extension": ".py",
   "mimetype": "text/x-python",
   "name": "python",
   "nbconvert_exporter": "python",
   "pygments_lexer": "ipython3",
   "version": "3.10.6 (main, Nov 14 2022, 16:10:14) [GCC 11.3.0]"
  },
  "orig_nbformat": 4,
  "vscode": {
   "interpreter": {
    "hash": "916dbcbb3f70747c44a77c7bcd40155683ae19c65e1c03b4aa3499c5328201f1"
   }
  }
 },
 "nbformat": 4,
 "nbformat_minor": 2
}
