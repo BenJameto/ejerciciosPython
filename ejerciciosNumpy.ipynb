{
 "cells": [
  {
   "attachments": {},
   "cell_type": "markdown",
   "metadata": {},
   "source": [
    "EJERCICIOS NUMPY\n"
   ]
  },
  {
   "cell_type": "code",
   "execution_count": 1,
   "metadata": {},
   "outputs": [],
   "source": [
    "import numpy as np\n",
    "import random as rd"
   ]
  },
  {
   "attachments": {},
   "cell_type": "markdown",
   "metadata": {},
   "source": [
    "Crear un arreglo de Numpy con 10 elementos aleatorios del 1 al 100."
   ]
  },
  {
   "cell_type": "code",
   "execution_count": 10,
   "metadata": {},
   "outputs": [
    {
     "data": {
      "text/plain": [
       "array([25, 39, 51, 73, 47, 68,  1, 18, 72, 49])"
      ]
     },
     "execution_count": 10,
     "metadata": {},
     "output_type": "execute_result"
    }
   ],
   "source": [
    "arr1 = np.random.randint(1 , 101, size =10)\n",
    "arr1"
   ]
  },
  {
   "attachments": {},
   "cell_type": "markdown",
   "metadata": {},
   "source": [
    "Crear un arreglo de Numpy de forma (5,5) con valores aleatorios del 1 al 10.\n"
   ]
  },
  {
   "cell_type": "code",
   "execution_count": 14,
   "metadata": {},
   "outputs": [
    {
     "data": {
      "text/plain": [
       "array([[10,  4,  6,  5,  2],\n",
       "       [ 5,  4,  2,  9,  7],\n",
       "       [ 9, 10,  4,  9,  6],\n",
       "       [ 8,  7,  1,  5,  4],\n",
       "       [ 2,  8, 10,  8,  7]])"
      ]
     },
     "execution_count": 14,
     "metadata": {},
     "output_type": "execute_result"
    }
   ],
   "source": [
    "arr2 = np.random.randint(1, 11, size=(5,5))\n",
    "arr2"
   ]
  },
  {
   "cell_type": "markdown",
   "metadata": {},
   "source": [
    "Crear un arreglo de Numpy de forma (3,3) con valores igual a 1 en la diagonal y 0 en las otras posiciones.\n",
    "\n"
   ]
  },
  {
   "cell_type": "code",
   "execution_count": 18,
   "metadata": {},
   "outputs": [
    {
     "data": {
      "text/plain": [
       "array([[1., 0., 0., 0., 0.],\n",
       "       [0., 1., 0., 0., 0.],\n",
       "       [0., 0., 1., 0., 0.],\n",
       "       [0., 0., 0., 1., 0.],\n",
       "       [0., 0., 0., 0., 1.]])"
      ]
     },
     "execution_count": 18,
     "metadata": {},
     "output_type": "execute_result"
    }
   ],
   "source": [
    "arr3 = np.eye(5)\n",
    "arr3"
   ]
  },
  {
   "attachments": {},
   "cell_type": "markdown",
   "metadata": {},
   "source": [
    "Crear un arreglo de Numpy con los números impares del 1 al 20.\n",
    "\n"
   ]
  },
  {
   "cell_type": "code",
   "execution_count": 26,
   "metadata": {},
   "outputs": [
    {
     "name": "stdout",
     "output_type": "stream",
     "text": [
      "[ 1  3  5  7  9 11 13 15 17 19]\n"
     ]
    }
   ],
   "source": [
    "arr = np.arange(1, 21, 2)\n",
    "print(arr)"
   ]
  },
  {
   "cell_type": "code",
   "execution_count": 28,
   "metadata": {},
   "outputs": [
    {
     "name": "stdout",
     "output_type": "stream",
     "text": [
      "[ 1  3  5  7  9 11 13 15 17 19]\n"
     ]
    }
   ],
   "source": [
    "lista = []\n",
    "for i in range (1,21):\n",
    "    if i%2 == 1:\n",
    "        lista.append(i)\n",
    "\n",
    "#print(np.array(lista))\n",
    "arr4=np.array(lista)\n",
    "print(arr4)\n"
   ]
  },
  {
   "attachments": {},
   "cell_type": "markdown",
   "metadata": {},
   "source": [
    "Crear un arreglo de Numpy de forma (4,4) con los números enteros del 1 al 16, y luego convertirlo en una matriz de 2x8.\n",
    "\n"
   ]
  },
  {
   "cell_type": "code",
   "execution_count": 33,
   "metadata": {},
   "outputs": [
    {
     "name": "stdout",
     "output_type": "stream",
     "text": [
      "[[ 1  2  3  4]\n",
      " [ 5  6  7  8]\n",
      " [ 9 10 11 12]\n",
      " [13 14 15 16]]\n",
      "[[ 1  2  3  4  5  6  7  8]\n",
      " [ 9 10 11 12 13 14 15 16]]\n"
     ]
    }
   ],
   "source": [
    "arr5 = np.arange(1,17).reshape(4,4)\n",
    "print(arr5)\n",
    "arr5 = arr5.reshape(2,8)\n",
    "print(arr5)"
   ]
  },
  {
   "attachments": {},
   "cell_type": "markdown",
   "metadata": {},
   "source": [
    "Crear dos arreglos de Numpy, uno con valores del 1 al 5 y otro con valores del 6 al 10. Luego, concatenarlos horizontalmente y verticalmente.\n",
    "\n"
   ]
  },
  {
   "cell_type": "code",
   "execution_count": 48,
   "metadata": {},
   "outputs": [
    {
     "name": "stdout",
     "output_type": "stream",
     "text": [
      "arreglo 1  [0 1 2 3 4]\n",
      "arreglo 2  [5 6 7 8 9]\n",
      "arreglo concatenado horizontal  [0 1 2 3 4 5 6 7 8 9]\n",
      "arreglo concatenado vertical \n",
      " [[0 1 2 3 4]\n",
      " [5 6 7 8 9]]\n"
     ]
    }
   ],
   "source": [
    "arr6_1=np.arange(0,5)\n",
    "arr6_2=np.arange(5,10) \n",
    "print('arreglo 1 ',arr6_1)\n",
    "print('arreglo 2 ',arr6_2)\n",
    "\n",
    "arr6_3=np.hstack((arr6_1,arr6_2)) \n",
    "print('arreglo concatenado horizontal ',arr6_3)\n",
    "arr6_4=np.vstack((arr6_1,arr6_2))\n",
    "print('arreglo concatenado vertical \\n', arr6_4)"
   ]
  },
  {
   "attachments": {},
   "cell_type": "markdown",
   "metadata": {},
   "source": [
    "Crear un arreglo de Numpy con 10 elementos aleatorios, y luego ordenarlos de mayor a menor.\n",
    "\n"
   ]
  },
  {
   "cell_type": "code",
   "execution_count": 61,
   "metadata": {},
   "outputs": [
    {
     "name": "stdout",
     "output_type": "stream",
     "text": [
      "arreglo original  [45 68 49 22 17 13  9 23 68 17]\n",
      "arreglo ordenado de menor a mayor (default)  [ 9 13 17 17 22 23 45 49 68 68]\n",
      "arreglo ordenado de mayor a menor usando [::-1]  [68 68 49 45 23 22 17 17 13  9]\n"
     ]
    }
   ],
   "source": [
    "arr7=np.random.randint(0,100, size = 10)\n",
    "print('arreglo original ',arr7)\n",
    "arr7_1=np.sort(arr7)#ordena de menor a mayor por default\n",
    "print('arreglo ordenado de menor a mayor (default) ',arr7_1)\n",
    "arr7_2=np.sort(arr7)[::-1]\n",
    "print('arreglo ordenado de mayor a menor usando [::-1] ',arr7_2)"
   ]
  },
  {
   "attachments": {},
   "cell_type": "markdown",
   "metadata": {},
   "source": [
    "Crear un arreglo de Numpy de forma (3,3) con valores aleatorios del 1 al 10, y luego calcular su transpuesta."
   ]
  },
  {
   "cell_type": "code",
   "execution_count": 64,
   "metadata": {},
   "outputs": [
    {
     "name": "stdout",
     "output_type": "stream",
     "text": [
      "[[5 4 7]\n",
      " [1 8 2]\n",
      " [7 8 9]]\n",
      "[[5 1 9]\n",
      " [1 5 2]\n",
      " [5 8 9]]\n"
     ]
    }
   ],
   "source": [
    "arr8=np.random.randint(0,10, size=(3,3))\n",
    "print(arr8)\n",
    "#arr8t=np.transpose(arr8)\n",
    "arrt=arr8.T\n",
    "print(arr8t)"
   ]
  }
 ],
 "metadata": {
  "kernelspec": {
   "display_name": "Python 3",
   "language": "python",
   "name": "python3"
  },
  "language_info": {
   "codemirror_mode": {
    "name": "ipython",
    "version": 3
   },
   "file_extension": ".py",
   "mimetype": "text/x-python",
   "name": "python",
   "nbconvert_exporter": "python",
   "pygments_lexer": "ipython3",
   "version": "3.10.6"
  },
  "orig_nbformat": 4,
  "vscode": {
   "interpreter": {
    "hash": "916dbcbb3f70747c44a77c7bcd40155683ae19c65e1c03b4aa3499c5328201f1"
   }
  }
 },
 "nbformat": 4,
 "nbformat_minor": 2
}
